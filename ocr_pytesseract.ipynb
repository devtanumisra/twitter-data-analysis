{
 "cells": [
  {
   "cell_type": "code",
   "execution_count": 2,
   "id": "33682b49",
   "metadata": {},
   "outputs": [
    {
     "name": "stderr",
     "output_type": "stream",
     "text": [
      "C:\\Users\\Devtanu Misra\\AppData\\Local\\Temp\\ipykernel_10292\\1202242660.py:15: DeprecationWarning: ANTIALIAS is deprecated and will be removed in Pillow 10 (2023-07-01). Use Resampling.LANCZOS instead.\n",
      "  im_resized = img.resize(size, Image.ANTIALIAS)\n"
     ]
    },
    {
     "name": "stdout",
     "output_type": "stream",
     "text": [
      "California’ LEARNERS PERMIT\n",
      "\n",
      "DL 1234567 CLASS G\n",
      "ExP 10/11/2036 END NONE\n",
      "LN Google\n",
      "\n",
      "FN Docs\n",
      "\n",
      "1600 Amphitheatre Parkway\n",
      "\n",
      "Mountain View, CA 94043\n",
      "\n",
      "DOB 10/11/2006\n",
      "RSTR NONE\n",
      "\n",
      "Google Docs HAIR BLU EYES BLU\n",
      "\n",
      "Happy 16‘ Birthday,\n",
      "Google Docs!\n",
      "\n"
     ]
    }
   ],
   "source": [
    "#First install pytesseract from the below link\n",
    "#windows 64 bit link :- https://digi.bib.uni-mannheim.de/tesseract/tesseract-ocr-w64-setup-v5.2.0.20220712.exe\n",
    "\n",
    "\n",
    "import pytesseract\n",
    "from PIL import Image\n",
    "pytesseract.pytesseract.tesseract_cmd = r'C:\\Program Files\\Tesseract-OCR\\tesseract.exe'\n",
    "img=Image.open('twimg.png')\n",
    "\n",
    "length_x, width_y = img.size\n",
    "\n",
    "factor = min(1, float(1024.0 / length_x))\n",
    "\n",
    "size = int(factor * length_x), int(factor * width_y)\n",
    "\n",
    "im_resized = img.resize(size, Image.ANTIALIAS)\n",
    "\n",
    "text=pytesseract.image_to_string(im_resized,lang='eng')\n",
    "print(text)"
   ]
  },
  {
   "cell_type": "code",
   "execution_count": null,
   "id": "df94b396",
   "metadata": {},
   "outputs": [],
   "source": []
  }
 ],
 "metadata": {
  "kernelspec": {
   "display_name": "Python 3 (ipykernel)",
   "language": "python",
   "name": "python3"
  },
  "language_info": {
   "codemirror_mode": {
    "name": "ipython",
    "version": 3
   },
   "file_extension": ".py",
   "mimetype": "text/x-python",
   "name": "python",
   "nbconvert_exporter": "python",
   "pygments_lexer": "ipython3",
   "version": "3.8.3"
  }
 },
 "nbformat": 4,
 "nbformat_minor": 5
}
